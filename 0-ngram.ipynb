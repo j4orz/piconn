{
 "cells": [
  {
   "cell_type": "code",
   "execution_count": 1,
   "metadata": {},
   "outputs": [],
   "source": [
    "# data\n",
    "import torch\n",
    "import torch.nn.functional as F\n",
    "import matplotlib.pyplot as plt\n",
    "%matplotlib inline\n",
    "g = torch.Generator().manual_seed(2147483647)\n",
    "\n",
    "words = open('./data/names.txt', 'r').read().splitlines()\n",
    "v = sorted(list(set(''.join(words))))\n",
    "encode = { c:i+1 for i,c in enumerate(v) }\n",
    "encode['.'] = 0\n",
    "decode = { i:c for c,i in encode.items() }\n",
    "\n",
    "X, Y = [], []\n",
    "for w in words[:1]:\n",
    "    cs = ['.'] + list(w) + ['.']\n",
    "    for c1, c2 in zip(cs, cs[1:]):\n",
    "        x, y = encode[c1], encode[c2]\n",
    "        X.append(x)\n",
    "        Y.append(y)\n",
    "X, Y = torch.tensor(X), torch.tensor(Y)"
   ]
  },
  {
   "cell_type": "code",
   "execution_count": 2,
   "metadata": {},
   "outputs": [
    {
     "name": "stdout",
     "output_type": "stream",
     "text": [
      "anll=tensor(2.4516)\n",
      "3.7693049907684326\n",
      "2.8476314544677734\n",
      "3.3177599906921387\n",
      "3.532886028289795\n",
      "4.337294578552246\n",
      "3.456015110015869\n",
      "4.484967231750488\n",
      "4.010637283325195\n",
      "3.3913605213165283\n",
      "3.6365928649902344\n"
     ]
    },
    {
     "data": {
      "image/png": "[encoded data removed]",
      "text/plain": [
       "<Figure size 640x480 with 1 Axes>"
      ]
     },
     "metadata": {},
     "output_type": "display_data"
    }
   ],
   "source": [
    "# model + training\n",
    "# 1. freq counts\n",
    "C = torch.zeros((27,27), dtype=torch.int32)\n",
    "for w in words:\n",
    "    cs = ['.'] + list(w) + ['.']\n",
    "    for c1, c2 in zip(cs, cs[1:]):\n",
    "        C[encode[c1], encode[c2]] += 1  # model: counts\n",
    "smoothing = 1\n",
    "P = (C.float()+smoothing) / C.float().sum(1, keepdim=True) # todo, understand broadcasting and shapes.\n",
    "                                               # keepdim=False ==> normalizing cols instead of rows\n",
    "plt.imshow(P)\n",
    "\n",
    "nll, n = 0.0, 0\n",
    "for w in words:\n",
    "    cs = ['.'] + list(w) + ['.']\n",
    "    for c1, c2 in zip(cs, cs[1:]):\n",
    "        i, j = encode[c1], encode[c2]\n",
    "        nll -= torch.log(P[i, j])\n",
    "        n += 1\n",
    "anll = nll/n\n",
    "print(f'{anll=}')\n",
    "\n",
    "# 2.  y_hat = softmax(Wx) (5,27) @ (27,27) -> (5,27)\n",
    "for k in range(10):\n",
    "    # -forward\n",
    "    Xe = F.one_hot(X, num_classes=27).float() # .one_hot does not support d_type=torch.int32\n",
    "    W = torch.randn((27,27), generator=g, requires_grad=True)\n",
    "    logits = (Xe @ W) # R\n",
    "    y_hat = logits.exp() / logits.exp().sum(1, keepdims=True) # softmax = R+/normalize\n",
    "    loss = -y_hat[torch.arange(5), Y].log().mean() # todo: pluck out probs?\n",
    "    # @, .exp(), / and .sum() are all differentiable\n",
    "    print(loss.item())\n",
    "\n",
    "    # -backward\n",
    "    W.grad = None\n",
    "    loss.backward()\n",
    "\n",
    "    # -update\n",
    "    W.data += -0.1 * W.grad\n"
   ]
  },
  {
   "cell_type": "code",
   "execution_count": 3,
   "metadata": {},
   "outputs": [
    {
     "name": "stdout",
     "output_type": "stream",
     "text": [
      "akxxmiqabxajwjodacxgeod.\n",
      "fjnhsld.\n",
      "svagrziuahcjldkni.\n",
      "ectwpuvalvzrmrfwjdnycynhxbigunfd.\n",
      "ynkqalnmnhigwkv.\n",
      "espnztpyahcqukbvyx.\n",
      "ehqenid.\n",
      "jzf.\n",
      "wltjjunwjciqjgunyho.\n",
      "ebunihbfdyxnyodutxdygycwmdtmippgqsd.\n",
      "bfwlafrmtgywotd.\n",
      "dldrzipkv.\n",
      "azwjnuwidripvho.\n",
      "cmvchigd.\n",
      "cywbcmakanjvvqfrpgdrmtxldaxev.\n",
      "nld.\n",
      "nhawigbwewjobfknkldkahiphszimtbfsmtlmnhj.\n",
      "asppqwywgzyxadldyyhptgrianfsqeodmgyojscldwquetinzibffjq.\n",
      "esi.\n",
      "wjkvywspppsoldywlwjnkbrdsfldasbfdrwfjnhctgrzofgadrvzglxpctfjeskkvyxsfd.\n"
     ]
    }
   ],
   "source": [
    "# inference\n",
    "i_terminal = 0\n",
    "for _ in range(20):\n",
    "    i = i_terminal\n",
    "    output = []\n",
    "    while True:\n",
    "        # y_hat = P[i]\n",
    "        Xe = F.one_hot(torch.tensor([i]), num_classes=27).float()\n",
    "        logits = (Xe @ W) # R\n",
    "        y_hat = logits.exp() / logits.exp().sum(1, keepdims=True) # softmax = R+/normalize\n",
    "\n",
    "        i = torch.multinomial(y_hat, num_samples=1, replacement=True, generator=g).item()\n",
    "        o.append(decode[i])\n",
    "        if i == i_terminal:\n",
    "            break\n",
    "    print(''.join(output))"
   ]
  }
 ],
 "metadata": {
  "kernelspec": {
   "display_name": ".venv",
   "language": "python",
   "name": "python3"
  },
  "language_info": {
   "codemirror_mode": {
    "name": "ipython",
    "version": 3
   },
   "file_extension": ".py",
   "mimetype": "text/x-python",
   "name": "python",
   "nbconvert_exporter": "python",
   "pygments_lexer": "ipython3",
   "version": "3.12.7"
  }
 },
 "nbformat": 4,
 "nbformat_minor": 2
}
