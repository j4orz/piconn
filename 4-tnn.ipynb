{
 "cells": [
  {
   "cell_type": "code",
   "execution_count": 143,
   "metadata": {},
   "outputs": [
    {
     "name": "stdout",
     "output_type": "stream",
     "text": [
      "tensor([[58, 63,  0,  0,  0, 19, 24, 27],\n",
      "        [39, 59, 45, 46, 58,  1, 46, 43],\n",
      "        [49, 43, 57,  1, 53, 50, 42,  1],\n",
      "        [52, 41, 47, 43, 52, 58,  1, 56]])\n",
      "tensor([[63,  0,  0,  0, 19, 24, 27, 33],\n",
      "        [59, 45, 46, 58,  1, 46, 43,  1],\n",
      "        [43, 57,  1, 53, 50, 42,  1, 46],\n",
      "        [41, 47, 43, 52, 58,  1, 56, 47]])\n",
      "batch 0\n",
      "x: tensor([58]) -> y: tensor(63)\n",
      "x: tensor([58, 63]) -> y: tensor(0)\n",
      "x: tensor([58, 63,  0]) -> y: tensor(0)\n",
      "x: tensor([58, 63,  0,  0]) -> y: tensor(0)\n",
      "x: tensor([58, 63,  0,  0,  0]) -> y: tensor(19)\n",
      "x: tensor([58, 63,  0,  0,  0, 19]) -> y: tensor(24)\n",
      "x: tensor([58, 63,  0,  0,  0, 19, 24]) -> y: tensor(27)\n",
      "x: tensor([58, 63,  0,  0,  0, 19, 24, 27]) -> y: tensor(33)\n",
      "batch 1\n",
      "x: tensor([39]) -> y: tensor(59)\n",
      "x: tensor([39, 59]) -> y: tensor(45)\n",
      "x: tensor([39, 59, 45]) -> y: tensor(46)\n",
      "x: tensor([39, 59, 45, 46]) -> y: tensor(58)\n",
      "x: tensor([39, 59, 45, 46, 58]) -> y: tensor(1)\n",
      "x: tensor([39, 59, 45, 46, 58,  1]) -> y: tensor(46)\n",
      "x: tensor([39, 59, 45, 46, 58,  1, 46]) -> y: tensor(43)\n",
      "x: tensor([39, 59, 45, 46, 58,  1, 46, 43]) -> y: tensor(1)\n",
      "batch 2\n",
      "x: tensor([49]) -> y: tensor(43)\n",
      "x: tensor([49, 43]) -> y: tensor(57)\n",
      "x: tensor([49, 43, 57]) -> y: tensor(1)\n",
      "x: tensor([49, 43, 57,  1]) -> y: tensor(53)\n",
      "x: tensor([49, 43, 57,  1, 53]) -> y: tensor(50)\n",
      "x: tensor([49, 43, 57,  1, 53, 50]) -> y: tensor(42)\n",
      "x: tensor([49, 43, 57,  1, 53, 50, 42]) -> y: tensor(1)\n",
      "x: tensor([49, 43, 57,  1, 53, 50, 42,  1]) -> y: tensor(46)\n",
      "batch 3\n",
      "x: tensor([52]) -> y: tensor(41)\n",
      "x: tensor([52, 41]) -> y: tensor(47)\n",
      "x: tensor([52, 41, 47]) -> y: tensor(43)\n",
      "x: tensor([52, 41, 47, 43]) -> y: tensor(52)\n",
      "x: tensor([52, 41, 47, 43, 52]) -> y: tensor(58)\n",
      "x: tensor([52, 41, 47, 43, 52, 58]) -> y: tensor(1)\n",
      "x: tensor([52, 41, 47, 43, 52, 58,  1]) -> y: tensor(56)\n",
      "x: tensor([52, 41, 47, 43, 52, 58,  1, 56]) -> y: tensor(47)\n"
     ]
    }
   ],
   "source": [
    "\"\"\" transformer: https://arxiv.org/abs/1706.03762\n",
    "\n",
    "Dimension key:\n",
    "\n",
    "B: batch size\n",
    "T: sequence length\n",
    "V: vocabulary size\n",
    "\"\"\"\n",
    "\n",
    "# data\n",
    "import torch\n",
    "torch.manual_seed(1337)\n",
    "\n",
    "B, T = 4, 8\n",
    "def gen_dataset(data):\n",
    "    ix_rand = torch.randint(len(data) - T, (B,))\n",
    "    x = torch.stack([data[i:i+T] for i in ix_rand])\n",
    "    y = torch.stack([data[i+1:i+T+1] for i in ix_rand])\n",
    "    return x, y\n",
    "\n",
    "with open('./data/shakespeare.txt', 'r') as f:\n",
    "    text = f.read()\n",
    "vocab = sorted(list(set(''.join(text))))\n",
    "V = len(vocab)\n",
    "\n",
    "# tokenize\n",
    "encode = { c:i for i,c in enumerate(vocab) }\n",
    "# encode['.'] = 0\n",
    "decode = { i:c for i,c in enumerate(vocab) }\n",
    "data = torch.tensor([encode[c] for c in text], dtype=torch.long)\n",
    "\n",
    "# dataload\n",
    "n1, n2 = int(0.8*len(data)), int(0.9*len(data))\n",
    "Xtr_BT, Ytr_BT = gen_dataset(data[:n1])\n",
    "Xdev_BT, Ydev_BT = gen_dataset(data[n1:n2])\n",
    "Xte_BT, Yte_BT = gen_dataset(data[n2:])\n",
    "\n",
    "print(Xtr)\n",
    "print(Ytr)\n",
    "\n",
    "for b in range(B):\n",
    "    print('batch', b)\n",
    "    for t in range(T):\n",
    "        context = Xtr[b, :t+1]\n",
    "        target = Ytr[b, t]\n",
    "        print('x:', context, '->', 'y:', target)"
   ]
  },
  {
   "cell_type": "code",
   "execution_count": 144,
   "metadata": {},
   "outputs": [
    {
     "name": "stdout",
     "output_type": "stream",
     "text": [
      "torch.Size([4, 8, 65])\n",
      "tensor(5.0493, grad_fn=<NllLossBackward0>)\n",
      "\n",
      "SKIcLT;AcELMoTbvZv C?nq-QE33:CJqkOKH-q;:la!oiywkHjgChzbQ?u!3bLIgwevmyFJGUGp\n",
      "wnYWmnxKWWev-tDqXErVKLgJ\n"
     ]
    }
   ],
   "source": [
    "# model\n",
    "import torch.nn as nn\n",
    "import torch.nn.functional as F\n",
    "torch.manual_seed(1337)\n",
    "\n",
    "class Bigram(nn.Module):\n",
    "    def __init__(self, V):\n",
    "        super().__init__()\n",
    "        self.token_embedding_table = nn.Embedding(V, V)\n",
    "\n",
    "    # Y_BT is optional for inference\n",
    "    def forward(self, X_BT, Y_BT=None):\n",
    "        logits_BTV = self.token_embedding_table(X_BT)\n",
    "        B, T, V = logits_BTV.shape # support inference\n",
    "        if Y_BT is None:\n",
    "            loss = None\n",
    "        else:\n",
    "            loss = F.cross_entropy(logits_BTV.view(B*T, V), Y_BT.view(B*T)) # reshape for .cross_entropy()\n",
    "\n",
    "        return logits_BTV, loss\n",
    "\n",
    "    # generate: X_BT -> X_B(T+N)\n",
    "    def generate(self, X_BT, N):\n",
    "        X_BTi = X_BT\n",
    "        for _ in range(N):\n",
    "            logits_BTV, _ = self(X_BTi)\n",
    "            logits_BV = logits_BTV[:, -1, :] # pluck out last prediction (t=T)\n",
    "            probs = F.softmax(logits_BV, dim=1)\n",
    "            y_hat_B1 = torch.multinomial(probs, num_samples=1)\n",
    "            X_BTi = torch.cat((X_BTi, y_hat_B1), dim=1)\n",
    "        \n",
    "        return X_BTi\n",
    "\n",
    "m = Bigram(V)\n",
    "logits_BTV, loss = m(Xtr_BT, Ytr_BT)\n",
    "print(logits_BTV.shape)\n",
    "print(loss)\n",
    "\n",
    "B_inf, T_inf = 1, 1\n",
    "X_BinfTinf = torch.zeros((B_inf,T_inf), dtype=torch.long)\n",
    "Y_hat_BTplusN = m.generate(X_BinfTinf, N=100)\n",
    "Y_hat_BTplusNdecoded = ''.join([decode[i] for i in Y_hat_BTplusN[0].tolist()]) # 0 since B_inf = 1 \n",
    "print(Y_hat_BTplusNdecoded)"
   ]
  },
  {
   "cell_type": "code",
   "execution_count": 145,
   "metadata": {},
   "outputs": [
    {
     "name": "stdout",
     "output_type": "stream",
     "text": [
      "2.577054500579834\n"
     ]
    }
   ],
   "source": [
    "# training\n",
    "optimizer = torch.optim.AdamW(m.parameters(), lr=1e-3)\n",
    "\n",
    "Btr = 32\n",
    "for steps in range(10000):\n",
    "    X_BT, Y_BT = gen_dataset(data[:n1])\n",
    "    logits_BTV, loss = m(X_BT, Y_BT)\n",
    "    optimizer.zero_grad(set_to_none=True)\n",
    "    loss.backward()\n",
    "    optimizer.step()\n",
    "\n",
    "print(loss.item())"
   ]
  },
  {
   "cell_type": "code",
   "execution_count": 146,
   "metadata": {},
   "outputs": [
    {
     "name": "stdout",
     "output_type": "stream",
     "text": [
      "\n",
      "LUng:\n",
      "j?3o f hereren rdiglsunsomm d fethal m,\n",
      "KTINNAl tthane Soug ls th un,\n",
      "AD3XEr tidsey EThe or akGLGHAky!\n",
      "G&paveelt pofotes dend tou:\n",
      "\n",
      "AEVuing\n",
      "SPKI' thickerenlaig, at wg wohay mandstobouThee CH:P! t DI fuf O my me he n:\n",
      "Biset,Uinl, ke ig tor, micuais s.\n",
      "blt ind' cegandisins m.\n",
      "W-ves: anyoroup meartold n ay,\n",
      "3SSSeral igr\n",
      "\n",
      "CE:way; ke me En s HEQmy alaf tryo'se, y h d hd t t.\n",
      "Uhe dizkindlalesed wr't tho ainck, or bblligf whoul dico.\n",
      "I tly d n, kshiseline MPy LIEN FJUpUgathaite, n:wo o-gusatofthi\n"
     ]
    }
   ],
   "source": [
    "B_inf, T_inf = 1, 1\n",
    "X_BinfTinf = torch.zeros((B_inf,T_inf), dtype=torch.long)\n",
    "Y_hat_BTplusN = m.generate(X_BinfTinf, N=500)\n",
    "Y_hat_BTplusNdecoded = ''.join([decode[i] for i in Y_hat_BTplusN[0].tolist()]) # 0 since B_inf = 1 \n",
    "print(Y_hat_BTplusNdecoded)"
   ]
  }
 ],
 "metadata": {
  "kernelspec": {
   "display_name": ".venv",
   "language": "python",
   "name": "python3"
  },
  "language_info": {
   "codemirror_mode": {
    "name": "ipython",
    "version": 3
   },
   "file_extension": ".py",
   "mimetype": "text/x-python",
   "name": "python",
   "nbconvert_exporter": "python",
   "pygments_lexer": "ipython3",
   "version": "3.12.7"
  }
 },
 "nbformat": 4,
 "nbformat_minor": 2
}
