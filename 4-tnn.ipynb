{
 "cells": [
  {
   "cell_type": "code",
   "execution_count": null,
   "metadata": {},
   "outputs": [],
   "source": [
    "# data\n",
    "import torch\n",
    "import matplotlib.pyplot as plt\n",
    "%matplotlib inline\n",
    "import random\n",
    "\n",
    "words = open('./data/names.txt', 'r').read().splitlines()\n",
    "v = sorted(list(set(''.join(words))))\n",
    "encode = { c:i+1 for i,c in enumerate(v) }\n",
    "encode['.'] = 0\n",
    "decode = { i:c for c,i in encode.items() }\n",
    "\n",
    "context_length = 3\n",
    "def gen_dataset(words):\n",
    "    X, Y = [], []\n",
    "    for w in words:\n",
    "        context = [0] * context_length;\n",
    "        for c in w + '.':\n",
    "            X.append(context)\n",
    "            Y.append(encode[c])\n",
    "            # print(''.join(decode[i] for i in context), '-->', decode[encode[c]])\n",
    "            context = context[1:] + [encode[c]]\n",
    "    X, Y = torch.tensor(X), torch.tensor(Y) # X:(N,C) Y:(N)\n",
    "    return X, Y\n",
    "\n",
    "random.seed(42)\n",
    "random.shuffle(words)\n",
    "n1, n2 = int(0.8*len(words)), int(0.9*len(words))\n",
    "Xtr, Ytr = gen_dataset(words[:n1])\n",
    "Xdev, Ydev = gen_dataset(words[n1:n2])\n",
    "Xte, Yte = gen_dataset(words[n2:])"
   ]
  },
  {
   "cell_type": "code",
   "execution_count": null,
   "metadata": {},
   "outputs": [],
   "source": [
    "# model (baseline)\n",
    "import torch.nn as nn\n",
    "import torch.nn.functional as F\n",
    "torch.manual_seed(1337)\n",
    "\n",
    "class Bigram(nn.Module):\n",
    "    def __init__(self, V):\n",
    "        self.token_embedding_table = nn.Embedding(V, V)\n",
    "\n",
    "    def forward(self, xb, yb):\n",
    "        logits = self.token_embedding_table(xb) # (B: batch,T: time,C: channel)\n",
    "        return logits\n",
    "\n",
    "m = Bigram(V)\n",
    "y_hat = m(xb, yb)\n",
    "print(y_hat.shape)"
   ]
  }
 ],
 "metadata": {
  "kernelspec": {
   "display_name": ".venv",
   "language": "python",
   "name": "python3"
  },
  "language_info": {
   "name": "python",
   "version": "3.12.7"
  }
 },
 "nbformat": 4,
 "nbformat_minor": 2
}
